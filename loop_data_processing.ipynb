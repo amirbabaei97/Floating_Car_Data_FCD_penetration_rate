{
 "cells": [
  {
   "cell_type": "markdown",
   "id": "f2a1fc23",
   "metadata": {},
   "source": [
    "### **Notebook I: Penetration Paper Calculations** Notebook for the \"[Full Paper Title]\" manuscript.\n",
    "\n",
    "* **Author:** Amir Babaei: amir.babaei@ieee.org, Frankfurt University of Applied Sciences\n",
    "* **Date:** July 2025\n",
    "\n",
    "**Objective:** This notebook contains the primary loop detectors data analysis and filtering\n",
    "1. Data loading, integeration, and pre-processing\n",
    "2. Anomaly detection and filtering\n",
    "3. Generating output needed for further processing in the pipeline"
   ]
  },
  {
   "cell_type": "markdown",
   "id": "4d668b34",
   "metadata": {},
   "source": [
    "#### Data loading, integeration, and pre-processing\n",
    "##### In this section we:\n",
    "* load the loop detector data for the months: 11.24, 12.24, 1.25, 2.25 \n",
    "* for both 1.Flow and 2. Occupancy: \n",
    "    * create a standardized pivot format for further processing: [timestamps] X [locations] "
   ]
  },
  {
   "cell_type": "code",
   "execution_count": 1,
   "id": "0e5989bb",
   "metadata": {},
   "outputs": [],
   "source": [
    "# Load the variables from .env file\n",
    "\n",
    "import pandas as pd\n",
    "import glob\n",
    "import os\n",
    "from dotenv import load_dotenv\n",
    "load_dotenv()\n",
    "\n",
    "loop_data_location = os.getenv(\"loop_data_location\")\n"
   ]
  },
  {
   "cell_type": "code",
   "execution_count": 2,
   "id": "75505643",
   "metadata": {},
   "outputs": [
    {
     "data": {
      "application/vnd.microsoft.datawrangler.viewer.v0+json": {
       "columns": [
        {
         "name": "index",
         "rawType": "int64",
         "type": "integer"
        },
        {
         "name": "id",
         "rawType": "int64",
         "type": "integer"
        },
        {
         "name": "measurement_site_reference_id",
         "rawType": "object",
         "type": "string"
        },
        {
         "name": "measurement_time",
         "rawType": "object",
         "type": "string"
        },
        {
         "name": "vehicle_flow_rate",
         "rawType": "float64",
         "type": "float"
        },
        {
         "name": "occupancy_percentage",
         "rawType": "float64",
         "type": "float"
        },
        {
         "name": "created_at",
         "rawType": "object",
         "type": "string"
        }
       ],
       "ref": "b23cb968-82c7-4b6c-b47a-7a0ff02ed802",
       "rows": [
        [
         "0",
         "1",
         "18371006[D30b]",
         "2024-10-31 12:28:00+00",
         "240.0",
         "6.82",
         "2024-10-31 12:29:11.391584"
        ],
        [
         "1",
         "2",
         "18845003[D3a]",
         "2024-10-31 12:28:00+00",
         "120.0",
         "3.12",
         "2024-10-31 12:29:11.39426"
        ],
        [
         "2",
         "3",
         "18678002[D2 (KFZ1)]",
         "2024-10-31 12:28:00+00",
         "180.0",
         "21.02",
         "2024-10-31 12:29:11.395204"
        ],
        [
         "3",
         "4",
         "18371007[D40a]",
         "2024-10-31 12:28:00+00",
         "180.0",
         "32.83",
         "2024-10-31 12:29:11.396018"
        ],
        [
         "4",
         "5",
         "18372008[D8 (5)]",
         "2024-10-31 12:28:00+00",
         "60.0",
         "23.18",
         "2024-10-31 12:29:11.396838"
        ]
       ],
       "shape": {
        "columns": 6,
        "rows": 5
       }
      },
      "text/html": [
       "<div>\n",
       "<style scoped>\n",
       "    .dataframe tbody tr th:only-of-type {\n",
       "        vertical-align: middle;\n",
       "    }\n",
       "\n",
       "    .dataframe tbody tr th {\n",
       "        vertical-align: top;\n",
       "    }\n",
       "\n",
       "    .dataframe thead th {\n",
       "        text-align: right;\n",
       "    }\n",
       "</style>\n",
       "<table border=\"1\" class=\"dataframe\">\n",
       "  <thead>\n",
       "    <tr style=\"text-align: right;\">\n",
       "      <th></th>\n",
       "      <th>id</th>\n",
       "      <th>measurement_site_reference_id</th>\n",
       "      <th>measurement_time</th>\n",
       "      <th>vehicle_flow_rate</th>\n",
       "      <th>occupancy_percentage</th>\n",
       "      <th>created_at</th>\n",
       "    </tr>\n",
       "  </thead>\n",
       "  <tbody>\n",
       "    <tr>\n",
       "      <th>0</th>\n",
       "      <td>1</td>\n",
       "      <td>18371006[D30b]</td>\n",
       "      <td>2024-10-31 12:28:00+00</td>\n",
       "      <td>240.0</td>\n",
       "      <td>6.82</td>\n",
       "      <td>2024-10-31 12:29:11.391584</td>\n",
       "    </tr>\n",
       "    <tr>\n",
       "      <th>1</th>\n",
       "      <td>2</td>\n",
       "      <td>18845003[D3a]</td>\n",
       "      <td>2024-10-31 12:28:00+00</td>\n",
       "      <td>120.0</td>\n",
       "      <td>3.12</td>\n",
       "      <td>2024-10-31 12:29:11.39426</td>\n",
       "    </tr>\n",
       "    <tr>\n",
       "      <th>2</th>\n",
       "      <td>3</td>\n",
       "      <td>18678002[D2 (KFZ1)]</td>\n",
       "      <td>2024-10-31 12:28:00+00</td>\n",
       "      <td>180.0</td>\n",
       "      <td>21.02</td>\n",
       "      <td>2024-10-31 12:29:11.395204</td>\n",
       "    </tr>\n",
       "    <tr>\n",
       "      <th>3</th>\n",
       "      <td>4</td>\n",
       "      <td>18371007[D40a]</td>\n",
       "      <td>2024-10-31 12:28:00+00</td>\n",
       "      <td>180.0</td>\n",
       "      <td>32.83</td>\n",
       "      <td>2024-10-31 12:29:11.396018</td>\n",
       "    </tr>\n",
       "    <tr>\n",
       "      <th>4</th>\n",
       "      <td>5</td>\n",
       "      <td>18372008[D8 (5)]</td>\n",
       "      <td>2024-10-31 12:28:00+00</td>\n",
       "      <td>60.0</td>\n",
       "      <td>23.18</td>\n",
       "      <td>2024-10-31 12:29:11.396838</td>\n",
       "    </tr>\n",
       "  </tbody>\n",
       "</table>\n",
       "</div>"
      ],
      "text/plain": [
       "   id measurement_site_reference_id        measurement_time  \\\n",
       "0   1                18371006[D30b]  2024-10-31 12:28:00+00   \n",
       "1   2                 18845003[D3a]  2024-10-31 12:28:00+00   \n",
       "2   3           18678002[D2 (KFZ1)]  2024-10-31 12:28:00+00   \n",
       "3   4                18371007[D40a]  2024-10-31 12:28:00+00   \n",
       "4   5              18372008[D8 (5)]  2024-10-31 12:28:00+00   \n",
       "\n",
       "   vehicle_flow_rate  occupancy_percentage                  created_at  \n",
       "0              240.0                  6.82  2024-10-31 12:29:11.391584  \n",
       "1              120.0                  3.12   2024-10-31 12:29:11.39426  \n",
       "2              180.0                 21.02  2024-10-31 12:29:11.395204  \n",
       "3              180.0                 32.83  2024-10-31 12:29:11.396018  \n",
       "4               60.0                 23.18  2024-10-31 12:29:11.396838  "
      ]
     },
     "execution_count": 2,
     "metadata": {},
     "output_type": "execute_result"
    }
   ],
   "source": [
    "# Load the data for 11.24\n",
    "\n",
    "df_nov = pd.read_csv(loop_data_location + 'november_loop_data.csv')\n",
    "\n",
    "df_nov.head()"
   ]
  },
  {
   "cell_type": "code",
   "execution_count": 3,
   "id": "8fb2ecd3",
   "metadata": {},
   "outputs": [
    {
     "name": "stdout",
     "output_type": "stream",
     "text": [
      "### NaN Values in November Data ###\n",
      "id                                    0\n",
      "measurement_site_reference_id         0\n",
      "measurement_time                      0\n",
      "vehicle_flow_rate                327548\n",
      "occupancy_percentage             355737\n",
      "created_at                            0\n",
      "dtype: int64\n",
      "### NaN Distribution in November Data ###\n",
      "occupancy_percentage             0.003618\n",
      "vehicle_flow_rate                0.003331\n",
      "measurement_site_reference_id    0.000000\n",
      "id                               0.000000\n",
      "measurement_time                 0.000000\n",
      "created_at                       0.000000\n",
      "dtype: float64\n"
     ]
    }
   ],
   "source": [
    "# check the nans in the data\n",
    "print(\"### NaN Values in November Data ###\")\n",
    "print(df_nov.isna().sum())  \n",
    "\n",
    "# Check the distributions of the nans in various columns\n",
    "print(\"### NaN Distribution in November Data ###\")\n",
    "print(df_nov.isna().mean().sort_values(ascending=False))\n"
   ]
  },
  {
   "cell_type": "code",
   "execution_count": 4,
   "id": "e43b62fd",
   "metadata": {},
   "outputs": [
    {
     "name": "stdout",
     "output_type": "stream",
     "text": [
      "Found and loaded 88 data files.\n",
      "Shape of the combined DataFrame: (320429900, 4)\n",
      "\n",
      "Combined DataFrame `df_combined` is ready for analysis.\n"
     ]
    },
    {
     "data": {
      "application/vnd.microsoft.datawrangler.viewer.v0+json": {
       "columns": [
        {
         "name": "index",
         "rawType": "int64",
         "type": "integer"
        },
        {
         "name": "measurementSiteReferenceId",
         "rawType": "object",
         "type": "string"
        },
        {
         "name": "measurementTimeDefault",
         "rawType": "object",
         "type": "string"
        },
        {
         "name": "vehicleFlowRate",
         "rawType": "float64",
         "type": "float"
        },
        {
         "name": "occupancyPercentage",
         "rawType": "float64",
         "type": "float"
        }
       ],
       "ref": "7dbd3c08-48b6-4a6a-9bb7-e2ee70df84f8",
       "rows": [
        [
         "0",
         "18371006[D30b]",
         "2024-12-03T13:41:00.000+01:00",
         "180.0",
         "5.7833333"
        ],
        [
         "1",
         "18845003[D3a]",
         "2024-12-03T13:41:00.000+01:00",
         "0.0",
         "0.0"
        ],
        [
         "2",
         "18678002[D2 (KFZ1)]",
         "2024-12-03T13:41:00.000+01:00",
         "420.0",
         "5.7"
        ],
        [
         "3",
         "18371007[D40a]",
         "2024-12-03T13:41:00.000+01:00",
         "180.0",
         "11.533334"
        ],
        [
         "4",
         "18372008[D8 (5)]",
         "2024-12-03T13:41:00.000+01:00",
         "180.0",
         "4.866667"
        ]
       ],
       "shape": {
        "columns": 4,
        "rows": 5
       }
      },
      "text/html": [
       "<div>\n",
       "<style scoped>\n",
       "    .dataframe tbody tr th:only-of-type {\n",
       "        vertical-align: middle;\n",
       "    }\n",
       "\n",
       "    .dataframe tbody tr th {\n",
       "        vertical-align: top;\n",
       "    }\n",
       "\n",
       "    .dataframe thead th {\n",
       "        text-align: right;\n",
       "    }\n",
       "</style>\n",
       "<table border=\"1\" class=\"dataframe\">\n",
       "  <thead>\n",
       "    <tr style=\"text-align: right;\">\n",
       "      <th></th>\n",
       "      <th>measurementSiteReferenceId</th>\n",
       "      <th>measurementTimeDefault</th>\n",
       "      <th>vehicleFlowRate</th>\n",
       "      <th>occupancyPercentage</th>\n",
       "    </tr>\n",
       "  </thead>\n",
       "  <tbody>\n",
       "    <tr>\n",
       "      <th>0</th>\n",
       "      <td>18371006[D30b]</td>\n",
       "      <td>2024-12-03T13:41:00.000+01:00</td>\n",
       "      <td>180.0</td>\n",
       "      <td>5.783333</td>\n",
       "    </tr>\n",
       "    <tr>\n",
       "      <th>1</th>\n",
       "      <td>18845003[D3a]</td>\n",
       "      <td>2024-12-03T13:41:00.000+01:00</td>\n",
       "      <td>0.0</td>\n",
       "      <td>0.000000</td>\n",
       "    </tr>\n",
       "    <tr>\n",
       "      <th>2</th>\n",
       "      <td>18678002[D2 (KFZ1)]</td>\n",
       "      <td>2024-12-03T13:41:00.000+01:00</td>\n",
       "      <td>420.0</td>\n",
       "      <td>5.700000</td>\n",
       "    </tr>\n",
       "    <tr>\n",
       "      <th>3</th>\n",
       "      <td>18371007[D40a]</td>\n",
       "      <td>2024-12-03T13:41:00.000+01:00</td>\n",
       "      <td>180.0</td>\n",
       "      <td>11.533334</td>\n",
       "    </tr>\n",
       "    <tr>\n",
       "      <th>4</th>\n",
       "      <td>18372008[D8 (5)]</td>\n",
       "      <td>2024-12-03T13:41:00.000+01:00</td>\n",
       "      <td>180.0</td>\n",
       "      <td>4.866667</td>\n",
       "    </tr>\n",
       "  </tbody>\n",
       "</table>\n",
       "</div>"
      ],
      "text/plain": [
       "  measurementSiteReferenceId         measurementTimeDefault  vehicleFlowRate  \\\n",
       "0             18371006[D30b]  2024-12-03T13:41:00.000+01:00            180.0   \n",
       "1              18845003[D3a]  2024-12-03T13:41:00.000+01:00              0.0   \n",
       "2        18678002[D2 (KFZ1)]  2024-12-03T13:41:00.000+01:00            420.0   \n",
       "3             18371007[D40a]  2024-12-03T13:41:00.000+01:00            180.0   \n",
       "4           18372008[D8 (5)]  2024-12-03T13:41:00.000+01:00            180.0   \n",
       "\n",
       "   occupancyPercentage  \n",
       "0             5.783333  \n",
       "1             0.000000  \n",
       "2             5.700000  \n",
       "3            11.533334  \n",
       "4             4.866667  "
      ]
     },
     "execution_count": 4,
     "metadata": {},
     "output_type": "execute_result"
    }
   ],
   "source": [
    "# Load the data for 12.24, 1.25, and 2.25\n",
    "\n",
    "\n",
    "# Define the base directory for your data\n",
    "BASE_PATH = loop_data_location\n",
    "\n",
    "# Define the month patterns you want to load\n",
    "MONTH_PATTERNS = [\n",
    "    'traffic_202412*.csv', # December 2024\n",
    "    'traffic_202501*.csv', # January 2025\n",
    "    'traffic_202502*.csv'  # February 2025\n",
    "]\n",
    "\n",
    "# Use glob to find all file paths that match the patterns\n",
    "all_files = []\n",
    "for pattern in MONTH_PATTERNS:\n",
    "    all_files.extend(glob.glob(os.path.join(BASE_PATH, pattern)))\n",
    "\n",
    "# Sort the file list to ensure chronological order\n",
    "all_files.sort()\n",
    "\n",
    "# Load and concatenate all the found CSVs into a single DataFrame\n",
    "df_combined = pd.concat((pd.read_csv(f) for f in all_files), ignore_index=True)\n",
    "\n",
    "\n",
    "print(f\"Found and loaded {len(all_files)} data files.\")\n",
    "print(f\"Shape of the combined DataFrame: {df_combined.shape}\")\n",
    "\n",
    "print(\"\\nCombined DataFrame `df_combined` is ready for analysis.\")\n",
    "\n",
    "# Display the first few rows of the combined DataFrame\n",
    "df_combined.head()\n"
   ]
  },
  {
   "cell_type": "code",
   "execution_count": 5,
   "id": "22e981e9",
   "metadata": {},
   "outputs": [
    {
     "name": "stdout",
     "output_type": "stream",
     "text": [
      "### NaN Values in combined Data ###\n",
      "measurementSiteReferenceId       0\n",
      "measurementTimeDefault           0\n",
      "vehicleFlowRate               7581\n",
      "occupancyPercentage              1\n",
      "dtype: int64\n",
      "### NaN Distribution in combined Data ###\n",
      "vehicleFlowRate               2.365884e-05\n",
      "occupancyPercentage           3.120807e-09\n",
      "measurementTimeDefault        0.000000e+00\n",
      "measurementSiteReferenceId    0.000000e+00\n",
      "dtype: float64\n"
     ]
    }
   ],
   "source": [
    "# check the nans in the data\n",
    "print(\"### NaN Values in combined Data ###\")\n",
    "print(df_combined.isna().sum())\n",
    "\n",
    "# Check the distributions of the nans in various columns\n",
    "print(\"### NaN Distribution in combined Data ###\")\n",
    "print(df_combined.isna().mean().sort_values(ascending=False))"
   ]
  },
  {
   "cell_type": "code",
   "execution_count": 6,
   "id": "2e55501a",
   "metadata": {},
   "outputs": [
    {
     "name": "stdout",
     "output_type": "stream",
     "text": [
      "### Final Combined DataFrame Head ###\n",
      "  measurement_site_reference_id          measurement_time  vehicle_flow_rate  \\\n",
      "0                18371006[D30b] 2024-12-03 12:41:00+00:00              180.0   \n",
      "1                 18845003[D3a] 2024-12-03 12:41:00+00:00                0.0   \n",
      "2           18678002[D2 (KFZ1)] 2024-12-03 12:41:00+00:00              420.0   \n",
      "3                18371007[D40a] 2024-12-03 12:41:00+00:00              180.0   \n",
      "4              18372008[D8 (5)] 2024-12-03 12:41:00+00:00              180.0   \n",
      "\n",
      "   occupancy_percentage  \n",
      "0              5.783333  \n",
      "1              0.000000  \n",
      "2              5.700000  \n",
      "3             11.533334  \n",
      "4              4.866667  \n",
      "\n",
      "### Final Combined DataFrame Info ###\n",
      "<class 'pandas.core.frame.DataFrame'>\n",
      "RangeIndex: 418766770 entries, 0 to 418766769\n",
      "Data columns (total 4 columns):\n",
      " #   Column                         Dtype              \n",
      "---  ------                         -----              \n",
      " 0   measurement_site_reference_id  object             \n",
      " 1   measurement_time               datetime64[ns, UTC]\n",
      " 2   vehicle_flow_rate              float64            \n",
      " 3   occupancy_percentage           float64            \n",
      "dtypes: datetime64[ns, UTC](1), float64(2), object(1)\n",
      "memory usage: 12.5+ GB\n"
     ]
    }
   ],
   "source": [
    "## Combining DataFrames with Standardized Column Names\n",
    "\n",
    "# 1. Define the mapping to standardize column names\n",
    "column_rename_map = {\n",
    "    'measurementSiteReferenceId': 'measurement_site_reference_id',\n",
    "    'measurementTimeDefault':     'measurement_time',\n",
    "    'vehicleFlowRate':            'vehicle_flow_rate',\n",
    "    'occupancyPercentage':        'occupancy_percentage'\n",
    "}\n",
    "\n",
    "# 2. Rename the columns of your existing df_combined DataFrame\n",
    "df_combined_renamed = df_combined.rename(columns=column_rename_map)\n",
    "\n",
    "# 3. Concatenate the renamed df_combined with your existing df_nov\n",
    "df_final = pd.concat([df_combined_renamed, df_nov], ignore_index=True)\n",
    "\n",
    "# 4. Standardize the measurement_time column using format='mixed'\n",
    "# This correctly handles the multiple string formats in the column.\n",
    "df_final['measurement_time'] = pd.to_datetime(\n",
    "    df_final['measurement_time'], \n",
    "    format='mixed', \n",
    "    utc=True\n",
    ")\n",
    "\n",
    "# 5. Drop unnecessary columns\n",
    "df_final.drop(columns=['created_at','id'], inplace=True)\n",
    "\n",
    "# 6. Display the head and info of the final DataFrame to verify the merge\n",
    "print(\"### Final Combined DataFrame Head ###\")\n",
    "print(df_final.head())\n",
    "print(\"\\n### Final Combined DataFrame Info ###\")\n",
    "df_final.info()"
   ]
  },
  {
   "cell_type": "code",
   "execution_count": null,
   "id": "136b5983",
   "metadata": {},
   "outputs": [],
   "source": [
    "# Find and display rows where the combination of time and location is duplicated\n",
    "duplicate_rows = df_final[df_final.duplicated(subset=['measurement_time', 'measurement_site_reference_id'], keep=False)]\n",
    "\n",
    "print(f\"Found {len(duplicate_rows)} rows that are part of a duplicate set.\")\n",
    "# Sort to see the duplicates next to each other\n",
    "print(duplicate_rows.sort_values(by=['measurement_time', 'measurement_site_reference_id']).head(50))"
   ]
  },
  {
   "cell_type": "markdown",
   "id": "b3cf58a1",
   "metadata": {},
   "source": [
    "##### Since we have a duplicate issue with NaNs, first we try to resolve the issue and then we create the pivot tables."
   ]
  },
  {
   "cell_type": "code",
   "execution_count": 8,
   "id": "7de42e8d",
   "metadata": {},
   "outputs": [
    {
     "name": "stdout",
     "output_type": "stream",
     "text": [
      "Handling systematic duplicates...\n",
      "DataFrame shape after consolidation: (417973525, 4)\n",
      "\n",
      "Pivoting data for vehicle flow rate...\n",
      "Pivoting for flow complete.\n",
      "\n",
      "Pivoting data for occupancy percentage...\n",
      "Pivoting for occupancy complete.\n",
      "\n",
      "\n",
      "### Vehicle Flow DataFrame (df_flow) ###\n",
      "measurement_site_reference_id  10002001[D10 (KFZ1)]  10002002[D20 (KFZ2)]  \\\n",
      "measurement_time                                                            \n",
      "2024-10-31 12:28:00+00:00                      60.0                 180.0   \n",
      "2024-10-31 12:29:00+00:00                      60.0                 240.0   \n",
      "2024-10-31 12:30:00+00:00                     240.0                 180.0   \n",
      "2024-10-31 12:32:00+00:00                     240.0                 540.0   \n",
      "2024-10-31 12:33:00+00:00                     300.0                 300.0   \n",
      "\n",
      "measurement_site_reference_id  10002003[D3a (KFZ3)]  10002004[D3 (KFZ3)]  \\\n",
      "measurement_time                                                           \n",
      "2024-10-31 12:28:00+00:00                       0.0                 60.0   \n",
      "2024-10-31 12:29:00+00:00                       0.0                180.0   \n",
      "2024-10-31 12:30:00+00:00                       0.0                 60.0   \n",
      "2024-10-31 12:32:00+00:00                       0.0                180.0   \n",
      "2024-10-31 12:33:00+00:00                       0.0                 60.0   \n",
      "\n",
      "measurement_site_reference_id  10002005[D3b (KFZ3)]  10002006[D30 (KFZ3)]  \\\n",
      "measurement_time                                                            \n",
      "2024-10-31 12:28:00+00:00                      60.0                 120.0   \n",
      "2024-10-31 12:29:00+00:00                     180.0                 300.0   \n",
      "2024-10-31 12:30:00+00:00                     120.0                  60.0   \n",
      "2024-10-31 12:32:00+00:00                     180.0                  60.0   \n",
      "2024-10-31 12:33:00+00:00                      60.0                  60.0   \n",
      "\n",
      "measurement_site_reference_id  10002008[D4 (KFZ4)]  10004001[D10]  \\\n",
      "measurement_time                                                    \n",
      "2024-10-31 12:28:00+00:00                      0.0          600.0   \n",
      "2024-10-31 12:29:00+00:00                     60.0          600.0   \n",
      "2024-10-31 12:30:00+00:00                      0.0          960.0   \n",
      "2024-10-31 12:32:00+00:00                      0.0          360.0   \n",
      "2024-10-31 12:33:00+00:00                      0.0          660.0   \n",
      "\n",
      "measurement_site_reference_id  10004002[D20]  10007001[D10]  ...  \\\n",
      "measurement_time                                             ...   \n",
      "2024-10-31 12:28:00+00:00              300.0          300.0  ...   \n",
      "2024-10-31 12:29:00+00:00              840.0          240.0  ...   \n",
      "2024-10-31 12:30:00+00:00              300.0          420.0  ...   \n",
      "2024-10-31 12:32:00+00:00              720.0          240.0  ...   \n",
      "2024-10-31 12:33:00+00:00              540.0          120.0  ...   \n",
      "\n",
      "measurement_site_reference_id  19910009[D3a (KFZ3)]  19910010[D3b (KFZ3)]  \\\n",
      "measurement_time                                                            \n",
      "2024-10-31 12:28:00+00:00                      60.0                  60.0   \n",
      "2024-10-31 12:29:00+00:00                       0.0                 120.0   \n",
      "2024-10-31 12:30:00+00:00                       0.0                  60.0   \n",
      "2024-10-31 12:32:00+00:00                       0.0                  60.0   \n",
      "2024-10-31 12:33:00+00:00                      60.0                 300.0   \n",
      "\n",
      "measurement_site_reference_id  19910011[D30a (KFZ3)]  19910012[D30b (KFZ3)]  \\\n",
      "measurement_time                                                              \n",
      "2024-10-31 12:28:00+00:00                       60.0                   60.0   \n",
      "2024-10-31 12:29:00+00:00                        0.0                   60.0   \n",
      "2024-10-31 12:30:00+00:00                       60.0                   60.0   \n",
      "2024-10-31 12:32:00+00:00                        0.0                  180.0   \n",
      "2024-10-31 12:33:00+00:00                       60.0                  180.0   \n",
      "\n",
      "measurement_site_reference_id  19914001[D10a (KFZ1)]  19914002[D10b (KFZ1)]  \\\n",
      "measurement_time                                                              \n",
      "2024-10-31 12:28:00+00:00                        0.0                    0.0   \n",
      "2024-10-31 12:29:00+00:00                        0.0                    0.0   \n",
      "2024-10-31 12:30:00+00:00                        0.0                    0.0   \n",
      "2024-10-31 12:32:00+00:00                        0.0                    0.0   \n",
      "2024-10-31 12:33:00+00:00                        0.0                    0.0   \n",
      "\n",
      "measurement_site_reference_id  19914003[D20a (KFZ2)]  19914004[D20b (KFZ2)]  \\\n",
      "measurement_time                                                              \n",
      "2024-10-31 12:28:00+00:00                        0.0                  180.0   \n",
      "2024-10-31 12:29:00+00:00                        0.0                    0.0   \n",
      "2024-10-31 12:30:00+00:00                        0.0                    0.0   \n",
      "2024-10-31 12:32:00+00:00                        0.0                    0.0   \n",
      "2024-10-31 12:33:00+00:00                        0.0                    0.0   \n",
      "\n",
      "measurement_site_reference_id  19914005[D3a (KFZ3)]  19914006[D3b (KFZ3)]  \n",
      "measurement_time                                                           \n",
      "2024-10-31 12:28:00+00:00                       0.0                   0.0  \n",
      "2024-10-31 12:29:00+00:00                       0.0                  60.0  \n",
      "2024-10-31 12:30:00+00:00                       0.0                   0.0  \n",
      "2024-10-31 12:32:00+00:00                       0.0                   0.0  \n",
      "2024-10-31 12:33:00+00:00                       0.0                  60.0  \n",
      "\n",
      "[5 rows x 2659 columns]\n"
     ]
    }
   ],
   "source": [
    "# --- 1. Consolidate Duplicate Rows ---\n",
    "print(\"Handling systematic duplicates...\")\n",
    "\n",
    "# Sort by time, location, and then by vehicle_flow_rate.\n",
    "# This pushes rows with NaN in 'vehicle_flow_rate' to the top of each duplicate group.\n",
    "df_final.sort_values(\n",
    "    by=['measurement_time', 'measurement_site_reference_id', 'vehicle_flow_rate'],\n",
    "    na_position='first', # Explicitly place NaNs first\n",
    "    inplace=True\n",
    ")\n",
    "\n",
    "# Drop duplicates based on time and location, keeping only the 'last' entry.\n",
    "# The 'last' entry is the one with the complete vehicle_flow_rate data.\n",
    "df_final.drop_duplicates(\n",
    "    subset=['measurement_time', 'measurement_site_reference_id'],\n",
    "    keep='last',\n",
    "    inplace=True\n",
    ")\n",
    "\n",
    "print(f\"DataFrame shape after consolidation: {df_final.shape}\")\n",
    "\n",
    "\n",
    "# --- 2. Create Pivoted DataFrames (Now using the faster 'pivot') ---\n",
    "# Since the duplicates are resolved, you can now use the original, more efficient 'pivot'\n",
    "print(\"\\nPivoting data for vehicle flow rate...\")\n",
    "df_flow = df_final.pivot(\n",
    "    index='measurement_time',\n",
    "    columns='measurement_site_reference_id',\n",
    "    values='vehicle_flow_rate'\n",
    ")\n",
    "print(\"Pivoting for flow complete.\")\n",
    "\n",
    "print(\"\\nPivoting data for occupancy percentage...\")\n",
    "df_occ = df_final.pivot(\n",
    "    index='measurement_time',\n",
    "    columns='measurement_site_reference_id',\n",
    "    values='occupancy_percentage'\n",
    ")\n",
    "print(\"Pivoting for occupancy complete.\")\n",
    "\n",
    "\n",
    "# --- 3. Display Results ---\n",
    "print(\"\\n\\n### Vehicle Flow DataFrame (df_flow) ###\")\n",
    "print(df_flow.head())"
   ]
  },
  {
   "cell_type": "code",
   "execution_count": 11,
   "id": "e5f751eb",
   "metadata": {},
   "outputs": [],
   "source": [
    "# Save the pivoted DataFrames to CSV files\n",
    "df_flow.to_csv('data/loop/df_flow_pivoted.csv')\n",
    "df_occ.to_csv('data/loop/df_occ_pivoted.csv')"
   ]
  }
 ],
 "metadata": {
  "kernelspec": {
   "display_name": ".penetration_paper",
   "language": "python",
   "name": "python3"
  },
  "language_info": {
   "codemirror_mode": {
    "name": "ipython",
    "version": 3
   },
   "file_extension": ".py",
   "mimetype": "text/x-python",
   "name": "python",
   "nbconvert_exporter": "python",
   "pygments_lexer": "ipython3",
   "version": "3.10.12"
  }
 },
 "nbformat": 4,
 "nbformat_minor": 5
}
